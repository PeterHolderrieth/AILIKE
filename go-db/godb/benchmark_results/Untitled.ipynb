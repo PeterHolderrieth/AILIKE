{
 "cells": [
  {
   "cell_type": "code",
   "execution_count": 77,
   "id": "a5ab1fba-30d2-447c-9366-644b3f444053",
   "metadata": {},
   "outputs": [],
   "source": [
    "import pandas as pd\n",
    "import matplotlib.pyplot as plt"
   ]
  },
  {
   "cell_type": "code",
   "execution_count": 147,
   "id": "cb9423ec-3eb8-4339-9457-9b21297bcce1",
   "metadata": {},
   "outputs": [
    {
     "name": "stdout",
     "output_type": "stream",
     "text": [
      "{'tweets_c_500': 'Tweets #Clusters = 500', 'tweets_c_50': 'Tweets #Clusters = 50', 'tweets_c_100': 'Tweets #Clusters = 100', 'tweets_c_250': 'Tweets #Clusters = 250', 'tweets_c_250_2': 'Table #Cluster 250, Limit 2', 'tweets_2': 'Table (Without Index) #Cluster 250, Limit 2', 'tweets_c_250_4': 'Table #Cluster 250, Limit 4', 'tweets_4': 'Table (Without Index) #Cluster 250, Limit 4', 'tweets_c_250_8': 'Table #Cluster 250, Limit 8', 'tweets_8': 'Table (Without Index) #Cluster 250, Limit 8', 'tweets_c_250_32': 'Table #Cluster 250, Limit 32', 'tweets_32': 'Table (Without Index) #Cluster 250, Limit 32', 'tweets_c_250_64': 'Table #Cluster 250, Limit 64', 'tweets_64': 'Table (Without Index) #Cluster 250, Limit 64', 'tweets_c_250_128': 'Table #Cluster 250, Limit 128', 'tweets_128': 'Table (Without Index) #Cluster 250, Limit 128', 'tweets_c_250_256': 'Table #Cluster 250, Limit 256', 'tweets_256': 'Table (Without Index) #Cluster 250, Limit 256'}\n"
     ]
    }
   ],
   "source": [
    "real_names = {\"tweets_c_500\" : \"Tweets #Clusters = 500\", \"tweets_c_50\" : \"Tweets #Clusters = 50\", \n",
    "              \"tweets_c_100\" : \"Tweets #Clusters = 100\", \"tweets_c_250\" : \"Tweets #Clusters = 250\"}\n",
    "\n",
    "vary_n = [2, 4, 8, 32, 64, 128, 256]\n",
    "for n in vary_n:\n",
    "    real_names[f\"tweets_c_250_\"+str(n)] = f\"Table #Cluster 250, Limit {n}\"\n",
    "    real_names[f\"tweets_\"+str(n)] = f\"Table (Without Index) #Cluster 250, Limit {n}\"\n",
    "\n",
    "print(real_names)"
   ]
  },
  {
   "cell_type": "code",
   "execution_count": 148,
   "id": "a7bd9ab4-6489-4409-9449-bdb194fd93f3",
   "metadata": {},
   "outputs": [],
   "source": [
    "def plot_speedup(dir, comparisons, name=\"result\", time_file=\"ALL_TIMINGS.csv\"):\n",
    "    df = pd.read_csv(f\"{dir}/{time_file}\", header=None)\n",
    "    print(df)\n",
    "    speedups = []\n",
    "    for table in comparisons:\n",
    "        base = int(df[df[0]==comparisons[table]][1].iloc[0])\n",
    "        comp = int(df[df[0]==table][1].iloc[0])\n",
    "        speedups.append({'table': real_names[table], 'speedup' : base/comp})\n",
    "\n",
    "    result = pd.DataFrame(speedups)\n",
    "\n",
    "    ax = result.plot(kind='bar', x='table', y='speedup', legend=False, color='none', edgecolor='black')\n",
    "    for p in ax.patches:\n",
    "        ax.annotate(str(int(p.get_height())) + \"x\", (p.get_x() + p.get_width() / 2., p.get_height()),\n",
    "                ha='center', va='center', xytext=(p.get_x(), 5), textcoords='offset points')\n",
    "    plt.title(name)\n",
    "    plt.xlabel('Table')\n",
    "    plt.ylabel('Speedup')\n",
    "    plt.show()\n",
    "            "
   ]
  },
  {
   "cell_type": "code",
   "execution_count": 149,
   "id": "af816213-5a25-49ba-892f-21c3d1c36be2",
   "metadata": {},
   "outputs": [
    {
     "name": "stdout",
     "output_type": "stream",
     "text": [
      "              0     1\n",
      "0        tweets  7726\n",
      "1   tweets_c_50    26\n",
      "2  tweets_c_100    25\n",
      "3  tweets_c_250    11\n",
      "4  tweets_c_500    11\n"
     ]
    },
    {
     "data": {
      "image/png": "[encoded data removed]",
      "text/plain": [
       "<Figure size 640x480 with 1 Axes>"
      ]
     },
     "metadata": {},
     "output_type": "display_data"
    }
   ],
   "source": [
    "plot_speedup(\"/Users/manyab/AILIKE/go-db/godb/benchmark_results/var_num_cluster\", \n",
    "             {\"tweets_c_500\" : \"tweets\",\n",
    "              \"tweets_c_250\" : \"tweets\",\n",
    "              \"tweets_c_50\" : \"tweets\",\n",
    "              \"tweets_c_100\" : \"tweets\",}, \n",
    "               name = \"Vary Num Cluster\",)"
   ]
  },
  {
   "cell_type": "code",
   "execution_count": 152,
   "id": "6559a330-9ec6-46fb-84c9-339a56dceaad",
   "metadata": {},
   "outputs": [],
   "source": [
    "def plot_accuracy(dir, comparisons, name=\"result\"):\n",
    "    \n",
    "    percentages = []\n",
    "    for table in comparisons: \n",
    "        baseline_file = f\"{dir}/{comparisons[table]}.csv\"\n",
    "        table_file = f\"{dir}/{table}.csv\"\n",
    "    \n",
    "        with open(f\"{dir}/{comparisons[table]}.csv\", 'r') as file:\n",
    "            base_lines_data = file.readlines()\n",
    "        with open(f\"{dir}/{table}.csv\", 'r') as file:\n",
    "            table_file = file.readlines()\n",
    "    \n",
    "        intersection = set(base_lines_data) & set(table_file)\n",
    "        percentage = (len(intersection) / min(len(base_lines_data), len(table_file))) * 100\n",
    "        percentages.append({'table': real_names[table], '% Overlap' : percentage})\n",
    "\n",
    "    result = pd.DataFrame(percentage)\n",
    "        ax = result.plot(kind='bar', x='table', y='speedup', legend=False, color='none', edgecolor='black')\n",
    "    for p in ax.patches:\n",
    "        ax.annotate(str(int(p.get_height())) + \"x\", (p.get_x() + p.get_width() / 2., p.get_height()),\n",
    "                ha='center', va='center', xytext=(p.get_x(), 5), textcoords='offset points')\n",
    "    plt.title(name)\n",
    "    plt.xlabel('Table')\n",
    "    plt.ylabel('Speedup')\n",
    "    plt.show()"
   ]
  },
  {
   "cell_type": "code",
   "execution_count": 151,
   "id": "e812f5e9-3aef-4b09-bb84-f71d361c86a9",
   "metadata": {},
   "outputs": [
    {
     "name": "stdout",
     "output_type": "stream",
     "text": [
      "33.33333333333333\n",
      "20.0\n",
      "11.11111111111111\n",
      "22.22222222222222\n",
      "22.22222222222222\n",
      "22.22222222222222\n",
      "33.33333333333333\n"
     ]
    }
   ],
   "source": [
    "comps = {}\n",
    "for num in [2, 4, 8, 32, 64, 128, 256]:\n",
    "    comps[f\"tweets_c_250_\"+str(num)] = f\"tweets_\"+str(num)\n",
    "\n",
    "plot_accuracy(\"/Users/manyab/AILIKE/go-db/godb/benchmark_results/var_n\", \n",
    "               comps,\n",
    "               name = \"Vary Num Cluster\",)"
   ]
  },
  {
   "cell_type": "code",
   "execution_count": null,
   "id": "755ea707-146f-4569-8d2d-e0d74d5aad61",
   "metadata": {},
   "outputs": [],
   "source": []
  },
  {
   "cell_type": "code",
   "execution_count": null,
   "id": "a453fb97-a014-4fc7-8d04-a1be5fcd7397",
   "metadata": {},
   "outputs": [],
   "source": []
  }
 ],
 "metadata": {
  "kernelspec": {
   "display_name": "Python 3 (ipykernel)",
   "language": "python",
   "name": "python3"
  },
  "language_info": {
   "codemirror_mode": {
    "name": "ipython",
    "version": 3
   },
   "file_extension": ".py",
   "mimetype": "text/x-python",
   "name": "python",
   "nbconvert_exporter": "python",
   "pygments_lexer": "ipython3",
   "version": "3.11.6"
  }
 },
 "nbformat": 4,
 "nbformat_minor": 5
}
